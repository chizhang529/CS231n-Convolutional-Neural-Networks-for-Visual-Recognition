{
 "cells": [
  {
   "cell_type": "markdown",
   "metadata": {},
   "source": [
    "# Softmax exercise\n",
    "\n",
    "*Complete and hand in this completed worksheet (including its outputs and any supporting code outside of the worksheet) with your assignment submission. For more details see the [assignments page](http://vision.stanford.edu/teaching/cs231n/assignments.html) on the course website.*\n",
    "\n",
    "This exercise is analogous to the SVM exercise. You will:\n",
    "\n",
    "- implement a fully-vectorized **loss function** for the Softmax classifier\n",
    "- implement the fully-vectorized expression for its **analytic gradient**\n",
    "- **check your implementation** with numerical gradient\n",
    "- use a validation set to **tune the learning rate and regularization** strength\n",
    "- **optimize** the loss function with **SGD**\n",
    "- **visualize** the final learned weights\n"
   ]
  },
  {
   "cell_type": "code",
   "execution_count": 35,
   "metadata": {
    "collapsed": false
   },
   "outputs": [
    {
     "name": "stdout",
     "output_type": "stream",
     "text": [
      "The autoreload extension is already loaded. To reload it, use:\n",
      "  %reload_ext autoreload\n"
     ]
    }
   ],
   "source": [
    "import random\n",
    "import numpy as np\n",
    "from cs231n.data_utils import load_CIFAR10\n",
    "import matplotlib.pyplot as plt\n",
    "\n",
    "from __future__ import print_function\n",
    "\n",
    "%matplotlib inline\n",
    "plt.rcParams['figure.figsize'] = (10.0, 8.0) # set default size of plots\n",
    "plt.rcParams['image.interpolation'] = 'nearest'\n",
    "plt.rcParams['image.cmap'] = 'gray'\n",
    "\n",
    "# for auto-reloading extenrnal modules\n",
    "# see http://stackoverflow.com/questions/1907993/autoreload-of-modules-in-ipython\n",
    "%load_ext autoreload\n",
    "%autoreload 2"
   ]
  },
  {
   "cell_type": "code",
   "execution_count": 36,
   "metadata": {
    "collapsed": false
   },
   "outputs": [
    {
     "name": "stdout",
     "output_type": "stream",
     "text": [
      "Train data shape:  (49000, 3073)\n",
      "Train labels shape:  (49000,)\n",
      "Validation data shape:  (1000, 3073)\n",
      "Validation labels shape:  (1000,)\n",
      "Test data shape:  (1000, 3073)\n",
      "Test labels shape:  (1000,)\n",
      "dev data shape:  (500, 3073)\n",
      "dev labels shape:  (500,)\n"
     ]
    }
   ],
   "source": [
    "def get_CIFAR10_data(num_training=49000, num_validation=1000, num_test=1000, num_dev=500):\n",
    "    \"\"\"\n",
    "    Load the CIFAR-10 dataset from disk and perform preprocessing to prepare\n",
    "    it for the linear classifier. These are the same steps as we used for the\n",
    "    SVM, but condensed to a single function.  \n",
    "    \"\"\"\n",
    "    # Load the raw CIFAR-10 data\n",
    "    cifar10_dir = 'cs231n/datasets/cifar-10-batches-py'\n",
    "    X_train, y_train, X_test, y_test = load_CIFAR10(cifar10_dir)\n",
    "    \n",
    "    # subsample the data\n",
    "    mask = list(range(num_training, num_training + num_validation))\n",
    "    X_val = X_train[mask]\n",
    "    y_val = y_train[mask]\n",
    "    mask = list(range(num_training))\n",
    "    X_train = X_train[mask]\n",
    "    y_train = y_train[mask]\n",
    "    mask = list(range(num_test))\n",
    "    X_test = X_test[mask]\n",
    "    y_test = y_test[mask]\n",
    "    mask = np.random.choice(num_training, num_dev, replace=False)\n",
    "    X_dev = X_train[mask]\n",
    "    y_dev = y_train[mask]\n",
    "    \n",
    "    # Preprocessing: reshape the image data into rows\n",
    "    X_train = np.reshape(X_train, (X_train.shape[0], -1))\n",
    "    X_val = np.reshape(X_val, (X_val.shape[0], -1))\n",
    "    X_test = np.reshape(X_test, (X_test.shape[0], -1))\n",
    "    X_dev = np.reshape(X_dev, (X_dev.shape[0], -1))\n",
    "    \n",
    "    # Normalize the data: subtract the mean image\n",
    "    mean_image = np.mean(X_train, axis = 0)\n",
    "    X_train -= mean_image\n",
    "    X_val -= mean_image\n",
    "    X_test -= mean_image\n",
    "    X_dev -= mean_image\n",
    "    \n",
    "    # add bias dimension and transform into columns\n",
    "    X_train = np.hstack([X_train, np.ones((X_train.shape[0], 1))])\n",
    "    X_val = np.hstack([X_val, np.ones((X_val.shape[0], 1))])\n",
    "    X_test = np.hstack([X_test, np.ones((X_test.shape[0], 1))])\n",
    "    X_dev = np.hstack([X_dev, np.ones((X_dev.shape[0], 1))])\n",
    "    \n",
    "    return X_train, y_train, X_val, y_val, X_test, y_test, X_dev, y_dev\n",
    "\n",
    "\n",
    "# Invoke the above function to get our data.\n",
    "X_train, y_train, X_val, y_val, X_test, y_test, X_dev, y_dev = get_CIFAR10_data()\n",
    "print('Train data shape: ', X_train.shape)\n",
    "print('Train labels shape: ', y_train.shape)\n",
    "print('Validation data shape: ', X_val.shape)\n",
    "print('Validation labels shape: ', y_val.shape)\n",
    "print('Test data shape: ', X_test.shape)\n",
    "print('Test labels shape: ', y_test.shape)\n",
    "print('dev data shape: ', X_dev.shape)\n",
    "print('dev labels shape: ', y_dev.shape)"
   ]
  },
  {
   "cell_type": "markdown",
   "metadata": {},
   "source": [
    "## Softmax Classifier\n",
    "\n",
    "Your code for this section will all be written inside **cs231n/classifiers/softmax.py**. \n"
   ]
  },
  {
   "cell_type": "code",
   "execution_count": 37,
   "metadata": {
    "collapsed": false
   },
   "outputs": [
    {
     "name": "stdout",
     "output_type": "stream",
     "text": [
      "loss: 2.357707\n",
      "sanity check: 2.302585\n"
     ]
    }
   ],
   "source": [
    "# First implement the naive softmax loss function with nested loops.\n",
    "# Open the file cs231n/classifiers/softmax.py and implement the\n",
    "# softmax_loss_naive function.\n",
    "\n",
    "from cs231n.classifiers.softmax import softmax_loss_naive\n",
    "import time\n",
    "\n",
    "# Generate a random softmax weight matrix and use it to compute the loss.\n",
    "W = np.random.randn(3073, 10) * 0.0001\n",
    "loss, grad = softmax_loss_naive(W, X_dev, y_dev, 0.0)\n",
    "\n",
    "# As a rough sanity check, our loss should be something close to -log(0.1).\n",
    "print('loss: %f' % loss)\n",
    "print('sanity check: %f' % (-np.log(0.1)))"
   ]
  },
  {
   "cell_type": "markdown",
   "metadata": {},
   "source": [
    "## Inline Question 1:\n",
    "Why do we expect our loss to be close to -log(0.1)? Explain briefly.**\n",
    "\n",
    "**Your answer:** W is initialized as very small values, which causes all scores to be approximately 0. Thus, loss should be close to 1/(number of classes). In this case, number of classes equals to 10, then the result should be close to log(1/10) = -log(0.1).\n"
   ]
  },
  {
   "cell_type": "code",
   "execution_count": 38,
   "metadata": {
    "collapsed": false
   },
   "outputs": [
    {
     "name": "stdout",
     "output_type": "stream",
     "text": [
      "numerical: -1.353152 analytic: -1.353152, relative error: 3.443256e-09\n",
      "numerical: 2.087074 analytic: 2.087074, relative error: 3.755649e-09\n",
      "numerical: -2.638677 analytic: -2.638677, relative error: 1.379020e-08\n",
      "numerical: 0.157134 analytic: 0.157134, relative error: 1.422963e-07\n",
      "numerical: -0.489165 analytic: -0.489165, relative error: 2.531748e-08\n",
      "numerical: 1.134176 analytic: 1.134176, relative error: 5.707678e-09\n",
      "numerical: 0.298556 analytic: 0.298556, relative error: 4.129597e-08\n",
      "numerical: -1.525184 analytic: -1.525184, relative error: 1.941935e-08\n",
      "numerical: 0.974160 analytic: 0.974160, relative error: 6.771843e-09\n",
      "numerical: -0.162494 analytic: -0.162494, relative error: 1.566159e-07\n",
      "numerical: -0.476167 analytic: -0.476167, relative error: 1.357168e-07\n",
      "numerical: 2.089287 analytic: 2.089287, relative error: 9.658654e-10\n",
      "numerical: 0.522342 analytic: 0.522341, relative error: 1.969524e-07\n",
      "numerical: -2.291554 analytic: -2.291554, relative error: 5.815400e-09\n",
      "numerical: -3.154969 analytic: -3.154969, relative error: 3.499760e-09\n",
      "numerical: -0.166442 analytic: -0.166442, relative error: 1.001607e-07\n",
      "numerical: -0.868168 analytic: -0.868168, relative error: 9.611611e-09\n",
      "numerical: 0.409199 analytic: 0.409199, relative error: 2.659715e-08\n",
      "numerical: -3.420690 analytic: -3.420690, relative error: 3.793060e-09\n",
      "numerical: -4.864649 analytic: -4.864649, relative error: 6.055832e-10\n"
     ]
    }
   ],
   "source": [
    "# Complete the implementation of softmax_loss_naive and implement a (naive)\n",
    "# version of the gradient that uses nested loops.\n",
    "loss, grad = softmax_loss_naive(W, X_dev, y_dev, 0.0)\n",
    "\n",
    "# As we did for the SVM, use numeric gradient checking as a debugging tool.\n",
    "# The numeric gradient should be close to the analytic gradient.\n",
    "from cs231n.gradient_check import grad_check_sparse\n",
    "f = lambda w: softmax_loss_naive(w, X_dev, y_dev, 0.0)[0]\n",
    "grad_numerical = grad_check_sparse(f, W, grad, 10)\n",
    "\n",
    "# similar to SVM case, do another gradient check with regularization\n",
    "loss, grad = softmax_loss_naive(W, X_dev, y_dev, 5e1)\n",
    "f = lambda w: softmax_loss_naive(w, X_dev, y_dev, 5e1)[0]\n",
    "grad_numerical = grad_check_sparse(f, W, grad, 10)"
   ]
  },
  {
   "cell_type": "code",
   "execution_count": 51,
   "metadata": {
    "collapsed": false
   },
   "outputs": [
    {
     "name": "stdout",
     "output_type": "stream",
     "text": [
      "naive loss: 2.357707e+00 computed in 0.130835s\n",
      "vectorized loss: 2.357707e+00 computed in 0.016543s\n",
      "Loss difference: 0.000000\n",
      "Gradient difference: 0.000000\n"
     ]
    }
   ],
   "source": [
    "# Now that we have a naive implementation of the softmax loss function and its gradient,\n",
    "# implement a vectorized version in softmax_loss_vectorized.\n",
    "# The two versions should compute the same results, but the vectorized version should be\n",
    "# much faster.\n",
    "tic = time.time()\n",
    "loss_naive, grad_naive = softmax_loss_naive(W, X_dev, y_dev, 0.000005)\n",
    "toc = time.time()\n",
    "print('naive loss: %e computed in %fs' % (loss_naive, toc - tic))\n",
    "\n",
    "from cs231n.classifiers.softmax import softmax_loss_vectorized\n",
    "tic = time.time()\n",
    "loss_vectorized, grad_vectorized = softmax_loss_vectorized(W, X_dev, y_dev, 0.000005)\n",
    "toc = time.time()\n",
    "print('vectorized loss: %e computed in %fs' % (loss_vectorized, toc - tic))\n",
    "\n",
    "# As we did for the SVM, we use the Frobenius norm to compare the two versions\n",
    "# of the gradient.\n",
    "grad_difference = np.linalg.norm(grad_naive - grad_vectorized, ord='fro')\n",
    "print('Loss difference: %f' % np.abs(loss_naive - loss_vectorized))\n",
    "print('Gradient difference: %f' % grad_difference)"
   ]
  },
  {
   "cell_type": "code",
   "execution_count": 55,
   "metadata": {
    "collapsed": false
   },
   "outputs": [
    {
     "name": "stdout",
     "output_type": "stream",
     "text": [
      "lr 1.400000e-07 reg 3.200000e+04 train accuracy: 0.330327 val accuracy: 0.338000\n",
      "lr 1.400000e-07 reg 3.220000e+04 train accuracy: 0.316714 val accuracy: 0.334000\n",
      "lr 1.400000e-07 reg 3.250000e+04 train accuracy: 0.321898 val accuracy: 0.342000\n",
      "lr 1.400000e-07 reg 3.255000e+04 train accuracy: 0.312429 val accuracy: 0.322000\n",
      "lr 1.400000e-07 reg 3.260000e+04 train accuracy: 0.319122 val accuracy: 0.328000\n",
      "lr 1.400000e-07 reg 3.265000e+04 train accuracy: 0.320531 val accuracy: 0.345000\n",
      "lr 1.400000e-07 reg 3.270000e+04 train accuracy: 0.313184 val accuracy: 0.333000\n",
      "lr 1.400000e-07 reg 3.300000e+04 train accuracy: 0.323082 val accuracy: 0.332000\n",
      "lr 1.400000e-07 reg 3.400000e+04 train accuracy: 0.319469 val accuracy: 0.344000\n",
      "lr 1.420000e-07 reg 3.200000e+04 train accuracy: 0.315694 val accuracy: 0.331000\n",
      "lr 1.420000e-07 reg 3.220000e+04 train accuracy: 0.325429 val accuracy: 0.342000\n",
      "lr 1.420000e-07 reg 3.250000e+04 train accuracy: 0.316429 val accuracy: 0.329000\n",
      "lr 1.420000e-07 reg 3.255000e+04 train accuracy: 0.326143 val accuracy: 0.330000\n",
      "lr 1.420000e-07 reg 3.260000e+04 train accuracy: 0.325571 val accuracy: 0.342000\n",
      "lr 1.420000e-07 reg 3.265000e+04 train accuracy: 0.315265 val accuracy: 0.329000\n",
      "lr 1.420000e-07 reg 3.270000e+04 train accuracy: 0.321347 val accuracy: 0.332000\n",
      "lr 1.420000e-07 reg 3.300000e+04 train accuracy: 0.320735 val accuracy: 0.340000\n",
      "lr 1.420000e-07 reg 3.400000e+04 train accuracy: 0.321490 val accuracy: 0.344000\n",
      "lr 1.440000e-07 reg 3.200000e+04 train accuracy: 0.314306 val accuracy: 0.335000\n",
      "lr 1.440000e-07 reg 3.220000e+04 train accuracy: 0.325551 val accuracy: 0.336000\n",
      "lr 1.440000e-07 reg 3.250000e+04 train accuracy: 0.316959 val accuracy: 0.328000\n",
      "lr 1.440000e-07 reg 3.255000e+04 train accuracy: 0.324204 val accuracy: 0.339000\n",
      "lr 1.440000e-07 reg 3.260000e+04 train accuracy: 0.325122 val accuracy: 0.335000\n",
      "lr 1.440000e-07 reg 3.265000e+04 train accuracy: 0.315245 val accuracy: 0.331000\n",
      "lr 1.440000e-07 reg 3.270000e+04 train accuracy: 0.312857 val accuracy: 0.335000\n",
      "lr 1.440000e-07 reg 3.300000e+04 train accuracy: 0.314633 val accuracy: 0.339000\n",
      "lr 1.440000e-07 reg 3.400000e+04 train accuracy: 0.317653 val accuracy: 0.334000\n",
      "lr 1.460000e-07 reg 3.200000e+04 train accuracy: 0.324347 val accuracy: 0.350000\n",
      "lr 1.460000e-07 reg 3.220000e+04 train accuracy: 0.318816 val accuracy: 0.325000\n",
      "lr 1.460000e-07 reg 3.250000e+04 train accuracy: 0.322041 val accuracy: 0.332000\n",
      "lr 1.460000e-07 reg 3.255000e+04 train accuracy: 0.317653 val accuracy: 0.329000\n",
      "lr 1.460000e-07 reg 3.260000e+04 train accuracy: 0.322510 val accuracy: 0.333000\n",
      "lr 1.460000e-07 reg 3.265000e+04 train accuracy: 0.312000 val accuracy: 0.330000\n",
      "lr 1.460000e-07 reg 3.270000e+04 train accuracy: 0.321959 val accuracy: 0.333000\n",
      "lr 1.460000e-07 reg 3.300000e+04 train accuracy: 0.314939 val accuracy: 0.333000\n",
      "lr 1.460000e-07 reg 3.400000e+04 train accuracy: 0.318898 val accuracy: 0.337000\n",
      "lr 1.500000e-07 reg 3.200000e+04 train accuracy: 0.325653 val accuracy: 0.348000\n",
      "lr 1.500000e-07 reg 3.220000e+04 train accuracy: 0.317776 val accuracy: 0.332000\n",
      "lr 1.500000e-07 reg 3.250000e+04 train accuracy: 0.318939 val accuracy: 0.339000\n",
      "lr 1.500000e-07 reg 3.255000e+04 train accuracy: 0.323735 val accuracy: 0.337000\n",
      "lr 1.500000e-07 reg 3.260000e+04 train accuracy: 0.316980 val accuracy: 0.333000\n",
      "lr 1.500000e-07 reg 3.265000e+04 train accuracy: 0.317306 val accuracy: 0.334000\n",
      "lr 1.500000e-07 reg 3.270000e+04 train accuracy: 0.316327 val accuracy: 0.323000\n",
      "lr 1.500000e-07 reg 3.300000e+04 train accuracy: 0.322490 val accuracy: 0.342000\n",
      "lr 1.500000e-07 reg 3.400000e+04 train accuracy: 0.319612 val accuracy: 0.326000\n",
      "best validation accuracy achieved during cross-validation: 0.350000\n"
     ]
    }
   ],
   "source": [
    "# Use the validation set to tune hyperparameters (regularization strength and\n",
    "# learning rate). You should experiment with different ranges for the learning\n",
    "# rates and regularization strengths; if you are careful you should be able to\n",
    "# get a classification accuracy of over 0.35 on the validation set.\n",
    "from cs231n.classifiers import Softmax\n",
    "results = {}\n",
    "best_val = -1\n",
    "best_softmax = None\n",
    "learning_rates = [1.4e-7, 1.42e-7, 1.44e-7, 1.46e-7, 1.5e-7]\n",
    "regularization_strengths = [3.2e4, 3.22e4, 3.25e4, 3.255e4, 3.26e4, 3.265e4, 3.27e4, 3.3e4, 3.4e4]\n",
    "\n",
    "################################################################################\n",
    "# TODO:                                                                        #\n",
    "# Use the validation set to set the learning rate and regularization strength. #\n",
    "# This should be identical to the validation that you did for the SVM; save    #\n",
    "# the best trained softmax classifer in best_softmax.                          #\n",
    "################################################################################\n",
    "for lr in learning_rates:\n",
    "    for reg in regularization_strengths:\n",
    "        softmax = Softmax()\n",
    "        softmax.train(X_train, y_train, learning_rate = lr, reg = reg, \n",
    "                      num_iters = 1500, verbose = False)\n",
    "            \n",
    "        y_train_pred = softmax.predict(X_train)\n",
    "        training_accuracy = np.mean(y_train == y_train_pred)\n",
    "        \n",
    "        y_val_pred = softmax.predict(X_val)\n",
    "        validation_accuracy = np.mean(y_val == y_val_pred)\n",
    "        \n",
    "        results[(lr, reg)] = (training_accuracy, validation_accuracy)\n",
    "        \n",
    "        if validation_accuracy > best_val:\n",
    "            best_val = validation_accuracy\n",
    "            best_softmax = softmax\n",
    "################################################################################\n",
    "#                              END OF YOUR CODE                                #\n",
    "################################################################################\n",
    "    \n",
    "# Print out results.\n",
    "for lr, reg in sorted(results):\n",
    "    train_accuracy, val_accuracy = results[(lr, reg)]\n",
    "    print('lr %e reg %e train accuracy: %f val accuracy: %f' % (\n",
    "                lr, reg, train_accuracy, val_accuracy))\n",
    "    \n",
    "print('best validation accuracy achieved during cross-validation: %f' % best_val)"
   ]
  },
  {
   "cell_type": "code",
   "execution_count": 56,
   "metadata": {
    "collapsed": false
   },
   "outputs": [
    {
     "name": "stdout",
     "output_type": "stream",
     "text": [
      "softmax on raw pixels final test set accuracy: 0.348000\n"
     ]
    }
   ],
   "source": [
    "# evaluate on test set\n",
    "# Evaluate the best softmax on test set\n",
    "y_test_pred = best_softmax.predict(X_test)\n",
    "test_accuracy = np.mean(y_test == y_test_pred)\n",
    "print('softmax on raw pixels final test set accuracy: %f' % (test_accuracy, ))"
   ]
  },
  {
   "cell_type": "code",
   "execution_count": 57,
   "metadata": {
    "collapsed": false
   },
   "outputs": [
    {
     "data": {
      "image/png": "[encoded data removed]",
      "text/plain": [
       "<matplotlib.figure.Figure at 0x118e97400>"
      ]
     },
     "metadata": {},
     "output_type": "display_data"
    }
   ],
   "source": [
    "# Visualize the learned weights for each class\n",
    "w = best_softmax.W[:-1,:] # strip out the bias\n",
    "w = w.reshape(32, 32, 3, 10)\n",
    "\n",
    "w_min, w_max = np.min(w), np.max(w)\n",
    "\n",
    "classes = ['plane', 'car', 'bird', 'cat', 'deer', 'dog', 'frog', 'horse', 'ship', 'truck']\n",
    "for i in range(10):\n",
    "    plt.subplot(2, 5, i + 1)\n",
    "    \n",
    "    # Rescale the weights to be between 0 and 255\n",
    "    wimg = 255.0 * (w[:, :, :, i].squeeze() - w_min) / (w_max - w_min)\n",
    "    plt.imshow(wimg.astype('uint8'))\n",
    "    plt.axis('off')\n",
    "    plt.title(classes[i])"
   ]
  }
 ],
 "metadata": {
  "kernelspec": {
   "display_name": "Python 3",
   "language": "python",
   "name": "python3"
  },
  "language_info": {
   "codemirror_mode": {
    "name": "ipython",
    "version": 3
   },
   "file_extension": ".py",
   "mimetype": "text/x-python",
   "name": "python",
   "nbconvert_exporter": "python",
   "pygments_lexer": "ipython3",
   "version": "3.6.1"
  }
 },
 "nbformat": 4,
 "nbformat_minor": 0
}
